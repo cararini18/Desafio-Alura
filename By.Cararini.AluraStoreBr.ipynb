{
  "nbformat": 4,
  "nbformat_minor": 0,
  "metadata": {
    "colab": {
      "provenance": []
    },
    "kernelspec": {
      "name": "python3",
      "display_name": "Python 3"
    },
    "language_info": {
      "name": "python"
    }
  },
  "cells": [
    {
      "cell_type": "markdown",
      "source": [
        "### Importação dos dados\n",
        "\n"
      ],
      "metadata": {
        "id": "RhEdWd9YUR6H"
      }
    },
    {
      "cell_type": "code",
      "execution_count": 5,
      "metadata": {
        "colab": {
          "base_uri": "https://localhost:8080/",
          "height": 327
        },
        "id": "T3EvaeQ_INIL",
        "outputId": "6de0c060-0311-4153-aa32-3d2af70254a8",
        "collapsed": true
      },
      "outputs": [
        {
          "output_type": "execute_result",
          "data": {
            "text/plain": [
              "                 Produto Categoria do Produto    Preço      Frete  \\\n",
              "0     Assistente virtual          eletronicos   219.08   9.249790   \n",
              "1         Mesa de jantar               moveis   256.35  11.234305   \n",
              "2      Jogo de tabuleiro           brinquedos   279.51  21.262681   \n",
              "3            Micro-ondas     eletrodomesticos  1009.99  54.667344   \n",
              "4  Cadeira de escritório               moveis   446.99  26.964689   \n",
              "\n",
              "  Data da Compra        Vendedor Local da compra  Avaliação da compra  \\\n",
              "0     16/01/2021     Pedro Gomes              SP                    4   \n",
              "1     18/05/2022  Beatriz Moraes              RJ                    1   \n",
              "2     15/03/2021      João Souza              DF                    1   \n",
              "3     03/05/2022      João Souza              RS                    4   \n",
              "4     07/11/2020   Larissa Alves              MG                    5   \n",
              "\n",
              "  Tipo de pagamento  Quantidade de parcelas    lat    lon  \n",
              "0    cartao_credito                       8 -22.19 -48.79  \n",
              "1    cartao_credito                       4 -22.25 -42.66  \n",
              "2    cartao_credito                       1 -15.83 -47.86  \n",
              "3            boleto                       1 -30.17 -53.50  \n",
              "4            boleto                       1 -18.10 -44.38  "
            ],
            "text/html": [
              "\n",
              "  <div id=\"df-30c25f9f-e438-4777-8f72-74c94d099f4a\" class=\"colab-df-container\">\n",
              "    <div>\n",
              "<style scoped>\n",
              "    .dataframe tbody tr th:only-of-type {\n",
              "        vertical-align: middle;\n",
              "    }\n",
              "\n",
              "    .dataframe tbody tr th {\n",
              "        vertical-align: top;\n",
              "    }\n",
              "\n",
              "    .dataframe thead th {\n",
              "        text-align: right;\n",
              "    }\n",
              "</style>\n",
              "<table border=\"1\" class=\"dataframe\">\n",
              "  <thead>\n",
              "    <tr style=\"text-align: right;\">\n",
              "      <th></th>\n",
              "      <th>Produto</th>\n",
              "      <th>Categoria do Produto</th>\n",
              "      <th>Preço</th>\n",
              "      <th>Frete</th>\n",
              "      <th>Data da Compra</th>\n",
              "      <th>Vendedor</th>\n",
              "      <th>Local da compra</th>\n",
              "      <th>Avaliação da compra</th>\n",
              "      <th>Tipo de pagamento</th>\n",
              "      <th>Quantidade de parcelas</th>\n",
              "      <th>lat</th>\n",
              "      <th>lon</th>\n",
              "    </tr>\n",
              "  </thead>\n",
              "  <tbody>\n",
              "    <tr>\n",
              "      <th>0</th>\n",
              "      <td>Assistente virtual</td>\n",
              "      <td>eletronicos</td>\n",
              "      <td>219.08</td>\n",
              "      <td>9.249790</td>\n",
              "      <td>16/01/2021</td>\n",
              "      <td>Pedro Gomes</td>\n",
              "      <td>SP</td>\n",
              "      <td>4</td>\n",
              "      <td>cartao_credito</td>\n",
              "      <td>8</td>\n",
              "      <td>-22.19</td>\n",
              "      <td>-48.79</td>\n",
              "    </tr>\n",
              "    <tr>\n",
              "      <th>1</th>\n",
              "      <td>Mesa de jantar</td>\n",
              "      <td>moveis</td>\n",
              "      <td>256.35</td>\n",
              "      <td>11.234305</td>\n",
              "      <td>18/05/2022</td>\n",
              "      <td>Beatriz Moraes</td>\n",
              "      <td>RJ</td>\n",
              "      <td>1</td>\n",
              "      <td>cartao_credito</td>\n",
              "      <td>4</td>\n",
              "      <td>-22.25</td>\n",
              "      <td>-42.66</td>\n",
              "    </tr>\n",
              "    <tr>\n",
              "      <th>2</th>\n",
              "      <td>Jogo de tabuleiro</td>\n",
              "      <td>brinquedos</td>\n",
              "      <td>279.51</td>\n",
              "      <td>21.262681</td>\n",
              "      <td>15/03/2021</td>\n",
              "      <td>João Souza</td>\n",
              "      <td>DF</td>\n",
              "      <td>1</td>\n",
              "      <td>cartao_credito</td>\n",
              "      <td>1</td>\n",
              "      <td>-15.83</td>\n",
              "      <td>-47.86</td>\n",
              "    </tr>\n",
              "    <tr>\n",
              "      <th>3</th>\n",
              "      <td>Micro-ondas</td>\n",
              "      <td>eletrodomesticos</td>\n",
              "      <td>1009.99</td>\n",
              "      <td>54.667344</td>\n",
              "      <td>03/05/2022</td>\n",
              "      <td>João Souza</td>\n",
              "      <td>RS</td>\n",
              "      <td>4</td>\n",
              "      <td>boleto</td>\n",
              "      <td>1</td>\n",
              "      <td>-30.17</td>\n",
              "      <td>-53.50</td>\n",
              "    </tr>\n",
              "    <tr>\n",
              "      <th>4</th>\n",
              "      <td>Cadeira de escritório</td>\n",
              "      <td>moveis</td>\n",
              "      <td>446.99</td>\n",
              "      <td>26.964689</td>\n",
              "      <td>07/11/2020</td>\n",
              "      <td>Larissa Alves</td>\n",
              "      <td>MG</td>\n",
              "      <td>5</td>\n",
              "      <td>boleto</td>\n",
              "      <td>1</td>\n",
              "      <td>-18.10</td>\n",
              "      <td>-44.38</td>\n",
              "    </tr>\n",
              "  </tbody>\n",
              "</table>\n",
              "</div>\n",
              "    <div class=\"colab-df-buttons\">\n",
              "\n",
              "  <div class=\"colab-df-container\">\n",
              "    <button class=\"colab-df-convert\" onclick=\"convertToInteractive('df-30c25f9f-e438-4777-8f72-74c94d099f4a')\"\n",
              "            title=\"Convert this dataframe to an interactive table.\"\n",
              "            style=\"display:none;\">\n",
              "\n",
              "  <svg xmlns=\"http://www.w3.org/2000/svg\" height=\"24px\" viewBox=\"0 -960 960 960\">\n",
              "    <path d=\"M120-120v-720h720v720H120Zm60-500h600v-160H180v160Zm220 220h160v-160H400v160Zm0 220h160v-160H400v160ZM180-400h160v-160H180v160Zm440 0h160v-160H620v160ZM180-180h160v-160H180v160Zm440 0h160v-160H620v160Z\"/>\n",
              "  </svg>\n",
              "    </button>\n",
              "\n",
              "  <style>\n",
              "    .colab-df-container {\n",
              "      display:flex;\n",
              "      gap: 12px;\n",
              "    }\n",
              "\n",
              "    .colab-df-convert {\n",
              "      background-color: #E8F0FE;\n",
              "      border: none;\n",
              "      border-radius: 50%;\n",
              "      cursor: pointer;\n",
              "      display: none;\n",
              "      fill: #1967D2;\n",
              "      height: 32px;\n",
              "      padding: 0 0 0 0;\n",
              "      width: 32px;\n",
              "    }\n",
              "\n",
              "    .colab-df-convert:hover {\n",
              "      background-color: #E2EBFA;\n",
              "      box-shadow: 0px 1px 2px rgba(60, 64, 67, 0.3), 0px 1px 3px 1px rgba(60, 64, 67, 0.15);\n",
              "      fill: #174EA6;\n",
              "    }\n",
              "\n",
              "    .colab-df-buttons div {\n",
              "      margin-bottom: 4px;\n",
              "    }\n",
              "\n",
              "    [theme=dark] .colab-df-convert {\n",
              "      background-color: #3B4455;\n",
              "      fill: #D2E3FC;\n",
              "    }\n",
              "\n",
              "    [theme=dark] .colab-df-convert:hover {\n",
              "      background-color: #434B5C;\n",
              "      box-shadow: 0px 1px 3px 1px rgba(0, 0, 0, 0.15);\n",
              "      filter: drop-shadow(0px 1px 2px rgba(0, 0, 0, 0.3));\n",
              "      fill: #FFFFFF;\n",
              "    }\n",
              "  </style>\n",
              "\n",
              "    <script>\n",
              "      const buttonEl =\n",
              "        document.querySelector('#df-30c25f9f-e438-4777-8f72-74c94d099f4a button.colab-df-convert');\n",
              "      buttonEl.style.display =\n",
              "        google.colab.kernel.accessAllowed ? 'block' : 'none';\n",
              "\n",
              "      async function convertToInteractive(key) {\n",
              "        const element = document.querySelector('#df-30c25f9f-e438-4777-8f72-74c94d099f4a');\n",
              "        const dataTable =\n",
              "          await google.colab.kernel.invokeFunction('convertToInteractive',\n",
              "                                                    [key], {});\n",
              "        if (!dataTable) return;\n",
              "\n",
              "        const docLinkHtml = 'Like what you see? Visit the ' +\n",
              "          '<a target=\"_blank\" href=https://colab.research.google.com/notebooks/data_table.ipynb>data table notebook</a>'\n",
              "          + ' to learn more about interactive tables.';\n",
              "        element.innerHTML = '';\n",
              "        dataTable['output_type'] = 'display_data';\n",
              "        await google.colab.output.renderOutput(dataTable, element);\n",
              "        const docLink = document.createElement('div');\n",
              "        docLink.innerHTML = docLinkHtml;\n",
              "        element.appendChild(docLink);\n",
              "      }\n",
              "    </script>\n",
              "  </div>\n",
              "\n",
              "\n",
              "<div id=\"df-9ac69ae5-dd5a-42dc-8b01-c820fe4794fd\">\n",
              "  <button class=\"colab-df-quickchart\" onclick=\"quickchart('df-9ac69ae5-dd5a-42dc-8b01-c820fe4794fd')\"\n",
              "            title=\"Suggest charts\"\n",
              "            style=\"display:none;\">\n",
              "\n",
              "<svg xmlns=\"http://www.w3.org/2000/svg\" height=\"24px\"viewBox=\"0 0 24 24\"\n",
              "     width=\"24px\">\n",
              "    <g>\n",
              "        <path d=\"M19 3H5c-1.1 0-2 .9-2 2v14c0 1.1.9 2 2 2h14c1.1 0 2-.9 2-2V5c0-1.1-.9-2-2-2zM9 17H7v-7h2v7zm4 0h-2V7h2v10zm4 0h-2v-4h2v4z\"/>\n",
              "    </g>\n",
              "</svg>\n",
              "  </button>\n",
              "\n",
              "<style>\n",
              "  .colab-df-quickchart {\n",
              "      --bg-color: #E8F0FE;\n",
              "      --fill-color: #1967D2;\n",
              "      --hover-bg-color: #E2EBFA;\n",
              "      --hover-fill-color: #174EA6;\n",
              "      --disabled-fill-color: #AAA;\n",
              "      --disabled-bg-color: #DDD;\n",
              "  }\n",
              "\n",
              "  [theme=dark] .colab-df-quickchart {\n",
              "      --bg-color: #3B4455;\n",
              "      --fill-color: #D2E3FC;\n",
              "      --hover-bg-color: #434B5C;\n",
              "      --hover-fill-color: #FFFFFF;\n",
              "      --disabled-bg-color: #3B4455;\n",
              "      --disabled-fill-color: #666;\n",
              "  }\n",
              "\n",
              "  .colab-df-quickchart {\n",
              "    background-color: var(--bg-color);\n",
              "    border: none;\n",
              "    border-radius: 50%;\n",
              "    cursor: pointer;\n",
              "    display: none;\n",
              "    fill: var(--fill-color);\n",
              "    height: 32px;\n",
              "    padding: 0;\n",
              "    width: 32px;\n",
              "  }\n",
              "\n",
              "  .colab-df-quickchart:hover {\n",
              "    background-color: var(--hover-bg-color);\n",
              "    box-shadow: 0 1px 2px rgba(60, 64, 67, 0.3), 0 1px 3px 1px rgba(60, 64, 67, 0.15);\n",
              "    fill: var(--button-hover-fill-color);\n",
              "  }\n",
              "\n",
              "  .colab-df-quickchart-complete:disabled,\n",
              "  .colab-df-quickchart-complete:disabled:hover {\n",
              "    background-color: var(--disabled-bg-color);\n",
              "    fill: var(--disabled-fill-color);\n",
              "    box-shadow: none;\n",
              "  }\n",
              "\n",
              "  .colab-df-spinner {\n",
              "    border: 2px solid var(--fill-color);\n",
              "    border-color: transparent;\n",
              "    border-bottom-color: var(--fill-color);\n",
              "    animation:\n",
              "      spin 1s steps(1) infinite;\n",
              "  }\n",
              "\n",
              "  @keyframes spin {\n",
              "    0% {\n",
              "      border-color: transparent;\n",
              "      border-bottom-color: var(--fill-color);\n",
              "      border-left-color: var(--fill-color);\n",
              "    }\n",
              "    20% {\n",
              "      border-color: transparent;\n",
              "      border-left-color: var(--fill-color);\n",
              "      border-top-color: var(--fill-color);\n",
              "    }\n",
              "    30% {\n",
              "      border-color: transparent;\n",
              "      border-left-color: var(--fill-color);\n",
              "      border-top-color: var(--fill-color);\n",
              "      border-right-color: var(--fill-color);\n",
              "    }\n",
              "    40% {\n",
              "      border-color: transparent;\n",
              "      border-right-color: var(--fill-color);\n",
              "      border-top-color: var(--fill-color);\n",
              "    }\n",
              "    60% {\n",
              "      border-color: transparent;\n",
              "      border-right-color: var(--fill-color);\n",
              "    }\n",
              "    80% {\n",
              "      border-color: transparent;\n",
              "      border-right-color: var(--fill-color);\n",
              "      border-bottom-color: var(--fill-color);\n",
              "    }\n",
              "    90% {\n",
              "      border-color: transparent;\n",
              "      border-bottom-color: var(--fill-color);\n",
              "    }\n",
              "  }\n",
              "</style>\n",
              "\n",
              "  <script>\n",
              "    async function quickchart(key) {\n",
              "      const quickchartButtonEl =\n",
              "        document.querySelector('#' + key + ' button');\n",
              "      quickchartButtonEl.disabled = true;  // To prevent multiple clicks.\n",
              "      quickchartButtonEl.classList.add('colab-df-spinner');\n",
              "      try {\n",
              "        const charts = await google.colab.kernel.invokeFunction(\n",
              "            'suggestCharts', [key], {});\n",
              "      } catch (error) {\n",
              "        console.error('Error during call to suggestCharts:', error);\n",
              "      }\n",
              "      quickchartButtonEl.classList.remove('colab-df-spinner');\n",
              "      quickchartButtonEl.classList.add('colab-df-quickchart-complete');\n",
              "    }\n",
              "    (() => {\n",
              "      let quickchartButtonEl =\n",
              "        document.querySelector('#df-9ac69ae5-dd5a-42dc-8b01-c820fe4794fd button');\n",
              "      quickchartButtonEl.style.display =\n",
              "        google.colab.kernel.accessAllowed ? 'block' : 'none';\n",
              "    })();\n",
              "  </script>\n",
              "</div>\n",
              "\n",
              "    </div>\n",
              "  </div>\n"
            ],
            "application/vnd.google.colaboratory.intrinsic+json": {
              "type": "dataframe",
              "variable_name": "loja",
              "summary": "{\n  \"name\": \"loja\",\n  \"rows\": 2359,\n  \"fields\": [\n    {\n      \"column\": \"Produto\",\n      \"properties\": {\n        \"dtype\": \"category\",\n        \"num_unique_values\": 51,\n        \"samples\": [\n          \"Viol\\u00e3o\",\n          \"Bola de basquete\",\n          \"Smartwatch\"\n        ],\n        \"semantic_type\": \"\",\n        \"description\": \"\"\n      }\n    },\n    {\n      \"column\": \"Categoria do Produto\",\n      \"properties\": {\n        \"dtype\": \"category\",\n        \"num_unique_values\": 8,\n        \"samples\": [\n          \"moveis\",\n          \"esporte e lazer\",\n          \"eletronicos\"\n        ],\n        \"semantic_type\": \"\",\n        \"description\": \"\"\n      }\n    },\n    {\n      \"column\": \"Pre\\u00e7o\",\n      \"properties\": {\n        \"dtype\": \"number\",\n        \"std\": 819.5827782539145,\n        \"min\": 10.07,\n        \"max\": 3969.38,\n        \"num_unique_values\": 2315,\n        \"samples\": [\n          446.11,\n          107.31,\n          65.86\n        ],\n        \"semantic_type\": \"\",\n        \"description\": \"\"\n      }\n    },\n    {\n      \"column\": \"Frete\",\n      \"properties\": {\n        \"dtype\": \"number\",\n        \"std\": 43.814183327408166,\n        \"min\": 0.0,\n        \"max\": 214.3770604781,\n        \"num_unique_values\": 2149,\n        \"samples\": [\n          83.815279607,\n          16.069664669,\n          14.0344876928\n        ],\n        \"semantic_type\": \"\",\n        \"description\": \"\"\n      }\n    },\n    {\n      \"column\": \"Data da Compra\",\n      \"properties\": {\n        \"dtype\": \"object\",\n        \"num_unique_values\": 1018,\n        \"samples\": [\n          \"15/09/2022\",\n          \"03/06/2020\",\n          \"06/11/2021\"\n        ],\n        \"semantic_type\": \"\",\n        \"description\": \"\"\n      }\n    },\n    {\n      \"column\": \"Vendedor\",\n      \"properties\": {\n        \"dtype\": \"category\",\n        \"num_unique_values\": 14,\n        \"samples\": [\n          \"Juliana Costa\",\n          \"Mariana Ferreira\",\n          \"Pedro Gomes\"\n        ],\n        \"semantic_type\": \"\",\n        \"description\": \"\"\n      }\n    },\n    {\n      \"column\": \"Local da compra\",\n      \"properties\": {\n        \"dtype\": \"category\",\n        \"num_unique_values\": 26,\n        \"samples\": [\n          \"TO\",\n          \"RN\",\n          \"SP\"\n        ],\n        \"semantic_type\": \"\",\n        \"description\": \"\"\n      }\n    },\n    {\n      \"column\": \"Avalia\\u00e7\\u00e3o da compra\",\n      \"properties\": {\n        \"dtype\": \"number\",\n        \"std\": 1,\n        \"min\": 1,\n        \"max\": 5,\n        \"num_unique_values\": 5,\n        \"samples\": [\n          1,\n          2,\n          5\n        ],\n        \"semantic_type\": \"\",\n        \"description\": \"\"\n      }\n    },\n    {\n      \"column\": \"Tipo de pagamento\",\n      \"properties\": {\n        \"dtype\": \"category\",\n        \"num_unique_values\": 4,\n        \"samples\": [\n          \"boleto\",\n          \"cartao_debito\",\n          \"cartao_credito\"\n        ],\n        \"semantic_type\": \"\",\n        \"description\": \"\"\n      }\n    },\n    {\n      \"column\": \"Quantidade de parcelas\",\n      \"properties\": {\n        \"dtype\": \"number\",\n        \"std\": 2,\n        \"min\": 1,\n        \"max\": 24,\n        \"num_unique_values\": 15,\n        \"samples\": [\n          7,\n          14,\n          8\n        ],\n        \"semantic_type\": \"\",\n        \"description\": \"\"\n      }\n    },\n    {\n      \"column\": \"lat\",\n      \"properties\": {\n        \"dtype\": \"number\",\n        \"std\": 5.372399916530833,\n        \"min\": -30.17,\n        \"max\": 1.41,\n        \"num_unique_values\": 26,\n        \"samples\": [\n          -9.46,\n          -5.81,\n          -22.19\n        ],\n        \"semantic_type\": \"\",\n        \"description\": \"\"\n      }\n    },\n    {\n      \"column\": \"lon\",\n      \"properties\": {\n        \"dtype\": \"number\",\n        \"std\": 4.183180020544179,\n        \"min\": -70.55,\n        \"max\": -36.59,\n        \"num_unique_values\": 26,\n        \"samples\": [\n          -48.26,\n          -36.59,\n          -48.79\n        ],\n        \"semantic_type\": \"\",\n        \"description\": \"\"\n      }\n    }\n  ]\n}"
            }
          },
          "metadata": {},
          "execution_count": 5
        }
      ],
      "source": [
        "import pandas as pd\n",
        "\n",
        "# URLs das lojas\n",
        "url = \"https://raw.githubusercontent.com/alura-es-cursos/challenge1-data-science/refs/heads/main/base-de-dados-challenge-1/loja_1.csv\"\n",
        "url2 = \"https://raw.githubusercontent.com/alura-es-cursos/challenge1-data-science/refs/heads/main/base-de-dados-challenge-1/loja_2.csv\"\n",
        "url3 = \"https://raw.githubusercontent.com/alura-es-cursos/challenge1-data-science/refs/heads/main/base-de-dados-challenge-1/loja_3.csv\"\n",
        "url4 = \"https://raw.githubusercontent.com/alura-es-cursos/challenge1-data-science/refs/heads/main/base-de-dados-challenge-1/loja_4.csv\"\n",
        "\n",
        "# Dataframe das lojas\n",
        "loja = pd.read_csv(url)\n",
        "loja2 = pd.read_csv(url2)\n",
        "loja3 = pd.read_csv(url3)\n",
        "loja4 = pd.read_csv(url4)\n",
        "\n",
        "loja.head()"
      ]
    },
    {
      "cell_type": "markdown",
      "source": [
        "#1. Análise do faturamento\n"
      ],
      "metadata": {
        "id": "X62IW3KFUIYm"
      }
    },
    {
      "cell_type": "code",
      "source": [
        "# faturamento das lojas\n",
        "faturamento_loja = loja['Preço'].sum().item()\n",
        "faturamento_loja2 = loja2['Preço'].sum().item()\n",
        "faturamento_loja3 = loja3['Preço'].sum().item()\n",
        "faturamento_loja4 = loja4['Preço'].sum().item()\n",
        "\n",
        "# imprimir na tela\n",
        "print(f'O Faturamento da loja 1 é: R$ {faturamento_loja:,.2f}')\n",
        "print(f'O Faturamento da loja 2 é: R$ {faturamento_loja2:,.2f}')\n",
        "print(f'O Faturamento da loja 3 é: R$ {faturamento_loja3:,.2f}')\n",
        "print(f'O Faturamento da loja 4 é: R$ {faturamento_loja4:,.2f}')\n",
        "\n",
        "# total\n",
        "total_faturamento = [faturamento_loja, faturamento_loja2, faturamento_loja3, faturamento_loja4]\n",
        "resultado = sum(total_faturamento)\n",
        "print(f'\\nO faturamento total é: R$ {resultado:,.2f}')"
      ],
      "metadata": {
        "id": "xykobSftV64I",
        "colab": {
          "base_uri": "https://localhost:8080/"
        },
        "outputId": "ea62ee42-5853-4819-ffc2-d1af80b1909d"
      },
      "execution_count": 29,
      "outputs": [
        {
          "output_type": "stream",
          "name": "stdout",
          "text": [
            "O Faturamento da loja 1 é: R$ 1,534,509.12\n",
            "O Faturamento da loja 2 é: R$ 1,488,459.06\n",
            "O Faturamento da loja 3 é: R$ 1,464,025.03\n",
            "O Faturamento da loja 4 é: R$ 1,384,497.58\n",
            "\n",
            "O faturamento total é: R$ 5,871,490.79\n"
          ]
        }
      ]
    },
    {
      "cell_type": "code",
      "source": [
        "import matplotlib.pyplot as plt\n",
        "\n",
        "# Definindo os dados\n",
        "lojas = ['Loja 1', 'Loja 2', 'Loja 3', 'Loja 4']\n",
        "faturamentos = [faturamento_loja, faturamento_loja2, faturamento_loja3, faturamento_loja4]\n",
        "\n",
        "# Criando o gráfico de barras\n",
        "plt.bar(lojas, faturamentos)\n",
        "\n",
        "plt.xticks(fontsize=10)  # Ajusta o tamanho da fonte dos rótulos do eixo x (lojas)\n",
        "plt.yticks(fontsize=12)  # Ajusta o tamanho da fonte dos rótulos do eixo y (faturamento)\n",
        "\n",
        "# Adicionando título e rótulos aos eixos\n",
        "plt.title('Faturamento por Loja')\n",
        "plt.xlabel('Lojas')\n",
        "plt.ylabel('Faturamento (R$)')\n",
        "\n",
        "# Exibindo o gráfico\n",
        "plt.show()"
      ],
      "metadata": {
        "id": "KDyr8E71V3m-",
        "colab": {
          "base_uri": "https://localhost:8080/",
          "height": 472
        },
        "outputId": "fdd0d99d-1d9e-4270-9a40-bb8f565cbc15"
      },
      "execution_count": 7,
      "outputs": [
        {
          "output_type": "display_data",
          "data": {
            "text/plain": [
              "<Figure size 640x480 with 1 Axes>"
            ],
            "image/png": "[encoded data removed]"
          },
          "metadata": {}
        }
      ]
    },
    {
      "cell_type": "markdown",
      "source": [
        "# 2. Vendas por Categoria\n"
      ],
      "metadata": {
        "id": "2V_vcAPzWZmR"
      }
    },
    {
      "cell_type": "code",
      "source": [
        "vendas_por_categoria_por_loja = loja['Categoria do Produto'].value_counts()\n",
        "vendas_por_categoria_por_loja2 = loja2['Categoria do Produto'].value_counts()\n",
        "vendas_por_categoria_por_loja3 = loja3['Categoria do Produto'].value_counts()\n",
        "vendas_por_categoria_por_loja4 = loja4['Categoria do Produto'].value_counts()\n",
        "\n",
        "print(f'\\n Loja 1: ')\n",
        "print(vendas_por_categoria_por_loja)\n",
        "\n",
        "print(f'\\n Loja 2: ')\n",
        "print(vendas_por_categoria_por_loja2)\n",
        "\n",
        "print(f'\\n Loja 3: ')\n",
        "print(vendas_por_categoria_por_loja3)\n",
        "\n",
        "print(f'\\n Loja 4: ')\n",
        "print(vendas_por_categoria_por_loja4)\n"
      ],
      "metadata": {
        "id": "A34YupIuYhfF",
        "colab": {
          "base_uri": "https://localhost:8080/"
        },
        "outputId": "2b1e0d93-a2fe-403c-e314-71dc683acf7d"
      },
      "execution_count": 4,
      "outputs": [
        {
          "output_type": "stream",
          "name": "stdout",
          "text": [
            "\n",
            " Loja 1: \n",
            "Categoria do Produto\n",
            "moveis                   465\n",
            "eletronicos              448\n",
            "brinquedos               324\n",
            "eletrodomesticos         312\n",
            "esporte e lazer          284\n",
            "instrumentos musicais    182\n",
            "livros                   173\n",
            "utilidades domesticas    171\n",
            "Name: count, dtype: int64\n",
            "\n",
            " Loja 2: \n",
            "Categoria do Produto\n",
            "moveis                   442\n",
            "eletronicos              422\n",
            "brinquedos               313\n",
            "eletrodomesticos         305\n",
            "esporte e lazer          275\n",
            "instrumentos musicais    224\n",
            "livros                   197\n",
            "utilidades domesticas    181\n",
            "Name: count, dtype: int64\n",
            "\n",
            " Loja 3: \n",
            "Categoria do Produto\n",
            "moveis                   499\n",
            "eletronicos              451\n",
            "brinquedos               315\n",
            "eletrodomesticos         278\n",
            "esporte e lazer          277\n",
            "livros                   185\n",
            "instrumentos musicais    177\n",
            "utilidades domesticas    177\n",
            "Name: count, dtype: int64\n",
            "\n",
            " Loja 4: \n",
            "Categoria do Produto\n",
            "moveis                   480\n",
            "eletronicos              451\n",
            "brinquedos               338\n",
            "esporte e lazer          277\n",
            "eletrodomesticos         254\n",
            "utilidades domesticas    201\n",
            "livros                   187\n",
            "instrumentos musicais    170\n",
            "Name: count, dtype: int64\n"
          ]
        }
      ]
    },
    {
      "cell_type": "code",
      "source": [
        "import matplotlib.pyplot as plt\n",
        "\n",
        "# Definindo os dados para a loja\n",
        "categorias_loja2 = vendas_por_categoria_por_loja2.index.tolist()\n",
        "valores_loja2 = vendas_por_categoria_por_loja2.values.tolist()\n",
        "\n",
        "def formatar_valor(pct, valores):\n",
        "  valor_absoluto = int(pct/100.*sum(valores))\n",
        "  return \"R${:,.0f} ({:.1f}%)\".format(valor_absoluto, pct)\n",
        "\n",
        "# Criando o gráfico de pizza para a loja 2\n",
        "wedges, texts, autotexts = plt.pie(valores_loja2, labels=categorias_loja2, autopct=lambda pct: formatar_valor(pct, valores_loja2))\n",
        "\n",
        "# Adicionando título e rótulos aos eixos\n",
        "plt.title('Vendas por Categoria')\n",
        "\n",
        "# Ajustando o tamanho da fonte dos textos dentro das fatias\n",
        "for text in texts:\n",
        "    text.set_fontsize(9)\n",
        "\n",
        "# Ajustando o tamanho da fonte das porcentagens dentro das fatias\n",
        "for autotext in autotexts:\n",
        "    autotext.set_fontsize(7)\n",
        "\n",
        "plt.xlabel('Categorias')\n",
        "plt.ylabel('QTD de Vendas', fontsize=10)\n",
        "\n",
        "# Rotacionando os rótulos do eixo x para melhor visualização\n",
        "plt.xticks(rotation=45, ha='right')\n",
        "\n",
        "# Exibindo o gráfico\n",
        "plt.tight_layout()\n",
        "plt.show()"
      ],
      "metadata": {
        "id": "yZR6cOjXYSk1",
        "colab": {
          "base_uri": "https://localhost:8080/",
          "height": 487
        },
        "outputId": "aeec1015-1d94-4335-ca84-bea63a5d66a0"
      },
      "execution_count": 5,
      "outputs": [
        {
          "output_type": "display_data",
          "data": {
            "text/plain": [
              "<Figure size 640x480 with 1 Axes>"
            ],
            "image/png": "[encoded data removed]"
          },
          "metadata": {}
        }
      ]
    },
    {
      "cell_type": "markdown",
      "source": [
        "# 3. Média de Avaliação das Lojas"
      ],
      "metadata": {
        "id": "Rq6tU_xSY3jk"
      }
    },
    {
      "cell_type": "code",
      "source": [
        "# selecionando os elementos da coluna (loja) localizados no DF. assim, conseguimos realizar a media (mean)\n",
        "feedback_loja = loja[\"Avaliação da compra\"].mean()\n",
        "feedback_loja2 = loja2[\"Avaliação da compra\"].mean()\n",
        "feedback_loja3 = loja3[\"Avaliação da compra\"].mean()\n",
        "feedback_loja4 = loja4[\"Avaliação da compra\"].mean()\n",
        "\n",
        "# imprimindo na tela a mensagem\n",
        "print(f'A Média de avaliação da loja1 é: {round(feedback_loja, 2)}')\n",
        "print(f'A Média de avaliação da loja2 é: {round(feedback_loja2, 2)}')\n",
        "print(f'A Média de avaliação da loja3 é: {round(feedback_loja3, 2)}')\n",
        "print(f'A Média de avaliação da loja4 é: {round(feedback_loja4, 2)}')\n"
      ],
      "metadata": {
        "id": "bh3jjjJwY5MU",
        "colab": {
          "base_uri": "https://localhost:8080/"
        },
        "outputId": "86c0cc73-713d-4f3e-ebf9-fca928381a9d"
      },
      "execution_count": null,
      "outputs": [
        {
          "output_type": "stream",
          "name": "stdout",
          "text": [
            "A Média de avaliação da loja1 é: 3.98\n",
            "A Média de avaliação da loja2 é: 4.04\n",
            "A Média de avaliação da loja3 é: 4.05\n",
            "A Média de avaliação da loja4 é: 4.0\n"
          ]
        }
      ]
    },
    {
      "cell_type": "markdown",
      "source": [
        "# 4. Produtos Mais e Menos Vendidos"
      ],
      "metadata": {
        "id": "DmNp1KPBZCm-"
      }
    },
    {
      "cell_type": "code",
      "source": [
        "# seleciona a (loja) no dataframe realizando contagem da quantidade (value counts)\n",
        "produto_m1 = loja[\"Produto\"].value_counts()\n",
        "produto_m2 = loja2[\"Produto\"].value_counts()\n",
        "produto_m3 = loja3[\"Produto\"].value_counts()\n",
        "produto_m4 = loja4[\"Produto\"].value_counts()\n",
        "\n",
        "# imprimindo os valores na tela\n",
        "saida = f\"\"\"\n",
        "Loja 1 - O produto mais vendido: \"{produto_m1.index[0]}\", e o produto menos vendido: \"{produto_m1.index[-1]}\"\n",
        "Loja 2 - O produto mais vendido: \"{produto_m2.index[0]}\", e o produto menos vendido: \"{produto_m2.index[-1]}\"\n",
        "Loja 3 - O produto mais vendido: \"{produto_m3.index[0]}\", e o produto menos vendido: \"{produto_m3.index[-1]}\"\n",
        "Loja 4 - O produto mais vendido: \"{produto_m4.index[0]}\", e o produto menos vendido: \"{produto_m4.index[-1]}\"\n",
        "\"\"\"\n",
        "print(saida)\n"
      ],
      "metadata": {
        "id": "qoyjqijQZHfF",
        "colab": {
          "base_uri": "https://localhost:8080/"
        },
        "outputId": "99d6220d-0541-4601-837e-389032cba14c"
      },
      "execution_count": null,
      "outputs": [
        {
          "output_type": "stream",
          "name": "stdout",
          "text": [
            "\n",
            "Loja 1 - O produto mais vendido: \"Micro-ondas\", e o produto menos vendido: \"Celular ABXY\"\n",
            "Loja 2 - O produto mais vendido: \"Iniciando em programação\", e o produto menos vendido: \"Jogo de tabuleiro\"\n",
            "Loja 3 - O produto mais vendido: \"Kit banquetas\", e o produto menos vendido: \"Blocos de montar\"\n",
            "Loja 4 - O produto mais vendido: \"Cama box\", e o produto menos vendido: \"Guitarra\"\n",
            "\n"
          ]
        }
      ]
    },
    {
      "cell_type": "code",
      "source": [],
      "metadata": {
        "id": "0Sw3sd4IZIGW"
      },
      "execution_count": null,
      "outputs": []
    },
    {
      "cell_type": "markdown",
      "source": [
        "# 5. Frete Médio por Loja\n"
      ],
      "metadata": {
        "id": "Fl0cGi3bZKqU"
      }
    },
    {
      "cell_type": "code",
      "source": [
        "frete1 = loja[\"Frete\"].median()\n",
        "frete2 = loja2[\"Frete\"].median()\n",
        "frete3 = loja3[\"Frete\"].median()\n",
        "frete4 = loja4[\"Frete\"].median()\n",
        "\n",
        "# imprimindo os valores na tela\n",
        "resultado = f\"\"\"\n",
        "Frete Mediano\n",
        "Loja 1 - {round(frete1, 2)}\n",
        "Loja 2 - {round(frete2, 2)}\n",
        "Loja 3 - {round(frete3, 2)}\n",
        "Loja 4 - {round(frete4, 2)}\n",
        "\"\"\"\n",
        "\n",
        "lojas = [\"Loja 1\", \"Loja 2\", \"Loja 3\", \"Loja 4\"]\n",
        "valores = [round(frete1, 2), round(frete2, 2), round(frete3, 2), round(frete4, 2)]\n",
        "\n",
        "# adicionando cor ao gráfico\n",
        "plt.plot(lojas, valores, color='green')  # 'green' pode ser substituído por outras cores ou códigos de cores hexadecimais\n",
        "\n",
        "plt.ylabel('Mediana do Frete')\n",
        "plt.show()\n",
        "\n",
        "print(resultado)"
      ],
      "metadata": {
        "id": "S2JeaCykZNy9",
        "colab": {
          "base_uri": "https://localhost:8080/",
          "height": 552
        },
        "outputId": "8b580106-54f4-4844-8d8c-5f14a46c38ac"
      },
      "execution_count": null,
      "outputs": [
        {
          "output_type": "display_data",
          "data": {
            "text/plain": [
              "<Figure size 640x480 with 1 Axes>"
            ],
            "image/png": "[encoded data removed]"
          },
          "metadata": {}
        },
        {
          "output_type": "stream",
          "name": "stdout",
          "text": [
            "\n",
            "Frete Mediano\n",
            "Loja 1 - 16.5\n",
            "Loja 2 - 15.41\n",
            "Loja 3 - 15.88\n",
            "Loja 4 - 14.61\n",
            "\n"
          ]
        }
      ]
    }
  ]
}